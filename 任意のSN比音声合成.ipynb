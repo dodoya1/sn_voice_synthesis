{
  "nbformat": 4,
  "nbformat_minor": 0,
  "metadata": {
    "colab": {
      "provenance": [],
      "authorship_tag": "ABX9TyNPa/wpvKeKDBzon5IhWbDg",
      "include_colab_link": true
    },
    "kernelspec": {
      "name": "python3",
      "display_name": "Python 3"
    },
    "language_info": {
      "name": "python"
    }
  },
  "cells": [
    {
      "cell_type": "markdown",
      "metadata": {
        "id": "view-in-github",
        "colab_type": "text"
      },
      "source": [
        "<a href=\"https://colab.research.google.com/github/dodoya1/sn_voice_synthesis/blob/main/%E4%BB%BB%E6%84%8F%E3%81%AESN%E6%AF%94%E9%9F%B3%E5%A3%B0%E5%90%88%E6%88%90.ipynb\" target=\"_parent\"><img src=\"https://colab.research.google.com/assets/colab-badge.svg\" alt=\"Open In Colab\"/></a>"
      ]
    },
    {
      "cell_type": "markdown",
      "source": [
        "# 任意のSN比音声合成\n",
        "\n",
        "## 苦労した点\n",
        "\n",
        "*   記事内で紹介されているコードとGithubに挙げられているコードが微妙に異なっていた。実行成功させるためには、Githubに記載されている実行コードを入力する必要があった。\n",
        "*   「create_mixed_audio_file_with_soundfile.py」内のコードを修正する必要があると勘違いしており、実際は実行コードをパスなど自分の環境に合わせて修正する必要があった。\n",
        "\n",
        "# Signal-to-Noise比とは\n",
        "\n",
        "Signal-to-Noise比（Signal-to-Noise ratio、SN比、信号雑音比）とは、信号の大きさが雑音の大きさに比べてどのくらい大きいかを表す比率です。音声信号におけるSN比の単位はdB（デシベル）です。本記事ではSignalを音声、Noiseをそれ以外の音（ホワイトノイズ、環境音など）として説明します。\n",
        "\n",
        "SN比はその数値が高いほど音声のほうが雑音よりも大きいことを意味します。例えば、5dBよりも20dBのほうが音声が大きく聞こえ、雑音が小さく聞こえます。0dBは音声と雑音の大きさがちょうど同じことを意味します。音声よりも雑音のほうが大きい場合は、-10dBのようにマイナスの値をとります。\n",
        "\n",
        "「任意のSignal-to-Noise比の音声波形を作る」とは、例えば、5dBの割合で音声と雑音が混ざった音声波形を作るということです。\n",
        "\n",
        "# 説明\n",
        "\n",
        "*   今回は、以下のコードで20dBの割合で音声と雑音が混ざった音声波形を作った。\n",
        "*   任意のSN比音声合成した結果のwavファイルは、「result_mixed_audio」というフォルダ内に格納される。\n",
        "\n",
        "(参考文献)\n",
        "\n",
        "[任意のSignal-to-Noise比の音声波形をPythonで作ろう！](https://engineering.linecorp.com/ja/blog/voice-waveform-arbitrary-signal-to-noise-ratio-python/)\n",
        "\n",
        "[記事内で紹介されているコードの全体Github](https://github.com/Sato-Kunihiko/audio-SNR)"
      ],
      "metadata": {
        "id": "hYCVwg46NV-P"
      }
    },
    {
      "cell_type": "code",
      "execution_count": 2,
      "metadata": {
        "colab": {
          "base_uri": "https://localhost:8080/"
        },
        "id": "XQIcksbtAXW0",
        "outputId": "2d842efb-ac3e-4ac5-ffc5-420b6bd558ff"
      },
      "outputs": [
        {
          "output_type": "stream",
          "name": "stdout",
          "text": [
            "Cloning into 'audio-SNR'...\n",
            "remote: Enumerating objects: 199, done.\u001b[K\n",
            "remote: Counting objects: 100% (21/21), done.\u001b[K\n",
            "remote: Compressing objects: 100% (17/17), done.\u001b[K\n",
            "remote: Total 199 (delta 4), reused 8 (delta 2), pack-reused 178\u001b[K\n",
            "Receiving objects: 100% (199/199), 18.29 MiB | 14.76 MiB/s, done.\n",
            "Resolving deltas: 100% (80/80), done.\n"
          ]
        }
      ],
      "source": [
        "!git clone https://github.com/Sato-Kunihiko/audio-SNR.git"
      ]
    },
    {
      "cell_type": "code",
      "source": [
        "cd /content/audio-SNR"
      ],
      "metadata": {
        "colab": {
          "base_uri": "https://localhost:8080/"
        },
        "id": "5Yk2PhNOEHZo",
        "outputId": "3a9fffb1-444f-4c92-ed84-b74b10bea920"
      },
      "execution_count": 6,
      "outputs": [
        {
          "output_type": "stream",
          "name": "stdout",
          "text": [
            "/content/audio-SNR\n"
          ]
        }
      ]
    },
    {
      "cell_type": "code",
      "source": [
        "!python create_mixed_audio_file_with_soundfile.py --clean_file /content/audio-SNR/data/64_bit/source_clean/arctic_a0001_64bit.wav --noise_file /content/audio-SNR/data/64_bit/source_noise/ch01_64bit.wav --snr 20 --output_mixed_file /content/audio-SNR/data/64_bit/result_mixed_audio/20dB.wav"
      ],
      "metadata": {
        "id": "NaJOcdDiA0Ux"
      },
      "execution_count": 22,
      "outputs": []
    }
  ]
}